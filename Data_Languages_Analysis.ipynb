{
 "cells": [
  {
   "cell_type": "code",
   "execution_count": 86,
   "id": "910a933a",
   "metadata": {},
   "outputs": [],
   "source": [
    "import pandas as pd\n",
    "import itertools\n",
    "import matplotlib.pyplot as plt"
   ]
  },
  {
   "cell_type": "code",
   "execution_count": 87,
   "id": "b41bcbd8",
   "metadata": {},
   "outputs": [],
   "source": [
    "survey_data = pd.read_csv(\"survey_results_public.csv\")"
   ]
  },
  {
   "cell_type": "code",
   "execution_count": 109,
   "id": "6eef3962",
   "metadata": {},
   "outputs": [],
   "source": [
    "columns_interest = ['DevType', 'LanguageHaveWorkedWith']\n",
    "\n",
    "\n",
    "profile_insterest = [\"Data scientist or machine learning specialist\", \n",
    "                     \"Data or business analyst\", \n",
    "                     \"Engineer, data\"]\n",
    "\n",
    "# Select Languages of interest: Python, SQL, R\n",
    "languages_of_interest = ['Python', 'SQL', 'R']\n",
    "\n",
    "\n",
    "def get_languages_interest(data, languages_of_interest):\n",
    "\n",
    "    # Get the columns of interest\n",
    "    data = data[columns_interest]\n",
    "\n",
    "    # Get the rows of interest\n",
    "    data = data[data['DevType'].isin(profile_insterest)]\n",
    "\n",
    "    # Remove rows with Language Have Work With Column having Nan\n",
    "    data.dropna(subset=['LanguageHaveWorkedWith'], how='all', inplace=True)\n",
    "\n",
    "    candidate_languages = list(st_data.LanguageHaveWorkedWith.values)\n",
    "    \n",
    "    # Split strings of languages into list of list of languages\n",
    "    list_all_languages = [languages.split(\";\") for languages in candidate_languages]\n",
    "\n",
    "    # Combine all the lists\n",
    "    final_languages = list(itertools.chain.from_iterable(list_all_languages))\n",
    "\n",
    "\n",
    "    # Create final list of languages of interest\n",
    "    list_languages = [lang for lang in final_languages if lang in languages_of_interest]  \n",
    "    \n",
    "    return list_languages\n",
    "\n",
    "\n",
    "def compute_stats_languages(list_languages, languages_of_interest):\n",
    "    \n",
    "    final_stats = {}\n",
    "    \n",
    "    for lang in languages_of_interest:\n",
    "        final_stats[lang] = list_languages.count(lang)\n",
    "    \n",
    "    return final_stats\n",
    "\n",
    "\n",
    "def show_stats(stats):\n",
    "    \n",
    "    plt.xlabel(\"Number of occurences\")\n",
    "    plt.ylabel(\"Languages\")\n",
    "    plt.title(\"Most Used Languages by Data Professionals\")\n",
    "    \n",
    "    plt.barh(*zip(*stats.items()))"
   ]
  },
  {
   "cell_type": "code",
   "execution_count": 110,
   "id": "49a62711",
   "metadata": {},
   "outputs": [],
   "source": [
    "list_languages =  get_languages_interest(survey_data, languages_of_interest)"
   ]
  },
  {
   "cell_type": "code",
   "execution_count": 111,
   "id": "6cf26212",
   "metadata": {},
   "outputs": [
    {
     "data": {
      "text/plain": [
       "{'Python': 1127, 'SQL': 766, 'R': 320}"
      ]
     },
     "execution_count": 111,
     "metadata": {},
     "output_type": "execute_result"
    }
   ],
   "source": [
    "stats = compute_stats_languages(list_languages, languages_of_interest)\n",
    "stats"
   ]
  },
  {
   "cell_type": "code",
   "execution_count": 112,
   "id": "d0dfd90f",
   "metadata": {},
   "outputs": [
    {
     "data": {
      "image/png": "[encoded data removed]",
      "text/plain": [
       "<Figure size 432x288 with 1 Axes>"
      ]
     },
     "metadata": {
      "needs_background": "light"
     },
     "output_type": "display_data"
    }
   ],
   "source": [
    "show_stats(stats)"
   ]
  }
 ],
 "metadata": {
  "kernelspec": {
   "display_name": "Python 3 (ipykernel)",
   "language": "python",
   "name": "python3"
  },
  "language_info": {
   "codemirror_mode": {
    "name": "ipython",
    "version": 3
   },
   "file_extension": ".py",
   "mimetype": "text/x-python",
   "name": "python",
   "nbconvert_exporter": "python",
   "pygments_lexer": "ipython3",
   "version": "3.9.13"
  },
  "toc": {
   "base_numbering": 1,
   "nav_menu": {},
   "number_sections": true,
   "sideBar": true,
   "skip_h1_title": false,
   "title_cell": "Table of Contents",
   "title_sidebar": "Contents",
   "toc_cell": false,
   "toc_position": {},
   "toc_section_display": true,
   "toc_window_display": false
  }
 },
 "nbformat": 4,
 "nbformat_minor": 5
}
